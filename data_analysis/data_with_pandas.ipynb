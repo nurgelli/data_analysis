{
 "cells": [
  {
   "cell_type": "code",
   "execution_count": 42,
   "metadata": {},
   "outputs": [
    {
     "name": "stdout",
     "output_type": "stream",
     "text": [
      "here is your columns Index(['Valuation', 'Year Founded'], dtype='object')\n"
     ]
    }
   ],
   "source": [
    "import pandas as pd\n",
    "\n",
    "df = pd.read_csv('sources/Unicorn-companies.csv', engine='pyarrow', dtype_backend='pyarrow',  encoding='ISO-8859-1')\n",
    "\n",
    "int_columns = df.select_dtypes('int').columns\n",
    "str_columns = df.select_dtypes('string').columns\n",
    "if len(int_columns) > 1:\n",
    "    print(f\"here is your columns {int_columns}\")\n",
    "elif len(str_columns) > 2:\n",
    "    print(f\"Not muchs {str_columns}\")\n"
   ]
  },
  {
   "cell_type": "code",
   "execution_count": null,
   "metadata": {},
   "outputs": [],
   "source": []
  }
 ],
 "metadata": {
  "kernelspec": {
   "display_name": "Python 3 (ipykernel)",
   "language": "python",
   "name": "python3"
  },
  "language_info": {
   "codemirror_mode": {
    "name": "ipython",
    "version": 3
   },
   "file_extension": ".py",
   "mimetype": "text/x-python",
   "name": "python",
   "nbconvert_exporter": "python",
   "pygments_lexer": "ipython3",
   "version": "3.12.3"
  }
 },
 "nbformat": 4,
 "nbformat_minor": 2
}
