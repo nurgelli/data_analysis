{
 "cells": [
  {
   "cell_type": "code",
   "execution_count": 43,
   "metadata": {},
   "outputs": [
    {
     "name": "stdout",
     "output_type": "stream",
     "text": [
      "<class 'pandas.core.frame.DataFrame'>\n",
      "RangeIndex: 1074 entries, 0 to 1073\n",
      "Data columns (total 10 columns):\n",
      " #   Column            Non-Null Count  Dtype \n",
      "---  ------            --------------  ----- \n",
      " 0   Company           1074 non-null   object\n",
      " 1   Valuation         1074 non-null   int64 \n",
      " 2   Date Joined       1074 non-null   object\n",
      " 3   Industry          1074 non-null   object\n",
      " 4   City              1057 non-null   object\n",
      " 5   Country/Region    1074 non-null   object\n",
      " 6   Continent         1074 non-null   object\n",
      " 7   Year Founded      1074 non-null   int64 \n",
      " 8   Funding           1074 non-null   object\n",
      " 9   Select Investors  1074 non-null   object\n",
      "dtypes: int64(2), object(8)\n",
      "memory usage: 84.0+ KB\n"
     ]
    },
    {
     "data": {
      "text/plain": [
       "Company             1071\n",
       "Valuation             30\n",
       "Date Joined          638\n",
       "Industry              18\n",
       "City                 256\n",
       "Country/Region        47\n",
       "Continent              6\n",
       "Year Founded          35\n",
       "Funding              538\n",
       "Select Investors    1059\n",
       "dtype: int64"
      ]
     },
     "execution_count": 43,
     "metadata": {},
     "output_type": "execute_result"
    }
   ],
   "source": [
    "import numpy as np\n",
    "import pandas as pd\n",
    "\n",
    "\n",
    "\n",
    "df = pd.read_csv('sources/Unicorn-companies.csv', encoding='ISO-8859-1')\n",
    "df.shape\n",
    "df.head(5)\n",
    "df.describe()\n",
    "df.columns\n",
    "df.info()\n",
    "df.nunique()\n",
    "df\n",
    "\n",
    "\n",
    "\n",
    "\n",
    "# dataframe[dataframe['Obesity'] > 5 ]\n",
    "# dataframe['2024 Info'] = dataframe['Obesity'] * 5.48\n",
    "# dataframe\n",
    "# dataframe[(dataframe['Obesity'] > 30) & (dataframe['2024 Info'] < 170)]\n",
    "# dataframe['random count'] = dataframe['2024 Info'] + 52\n",
    "# dataframe.iloc[0][1]\n",
    "\n",
    "# dataframe.shape\n",
    "# dataframe.columns\n",
    "# dataframe.info\n",
    "# dataframe.info()\n",
    "# dataframe[['NAME', 'Obesity']]\n",
    "# dataframe.iloc[[0]]\n",
    "# dataframe.iloc[0:5]\n",
    "# dataframe.iloc[0:5, [0, 2]]\n",
    "# dataframe.iloc[0]\n",
    "# dataframe.loc[0:1, ['Obesity']]\n",
    "# dataframe['Age'] = dataframe['Obesity'] +0\n",
    "# dataframe.head()"
   ]
  }
 ],
 "metadata": {
  "kernelspec": {
   "display_name": "base",
   "language": "python",
   "name": "python3"
  },
  "language_info": {
   "codemirror_mode": {
    "name": "ipython",
    "version": 3
   },
   "file_extension": ".py",
   "mimetype": "text/x-python",
   "name": "python",
   "nbconvert_exporter": "python",
   "pygments_lexer": "ipython3",
   "version": "3.12.4"
  }
 },
 "nbformat": 4,
 "nbformat_minor": 2
}
